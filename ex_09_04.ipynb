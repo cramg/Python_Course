{
 "cells": [
  {
   "cell_type": "markdown",
   "id": "a6a71f9f-24bb-4625-912d-dd7363118d5d",
   "metadata": {},
   "source": [
    "# Exercise 9.4"
   ]
  },
  {
   "cell_type": "markdown",
   "id": "5fec2c34-0d1e-4bbd-b81e-035de55f96a3",
   "metadata": {},
   "source": [
    "Write a program to read through the **mbox-short.txt** and figure out who has sent the greatest number of mail messages. The program looks for 'From ' lines and takes the second word of those lines as the person who sent the mail. The program creates a Python dictionary that maps the sender's mail address to a count of the number of times they appear in the file. After the dictionary is produced, the program reads through the dictionary using a maximum loop to find the most prolific committer."
   ]
  },
  {
   "cell_type": "code",
   "execution_count": 8,
   "id": "25db9fef-a7ba-425e-8da6-0e34749d6ced",
   "metadata": {},
   "outputs": [],
   "source": [
    "handle = open('mbox-short.txt')"
   ]
  },
  {
   "cell_type": "code",
   "execution_count": 9,
   "id": "363425b3-49c0-4d03-b8b8-a9fd33157330",
   "metadata": {},
   "outputs": [],
   "source": [
    "contacts = dict()"
   ]
  },
  {
   "cell_type": "code",
   "execution_count": 10,
   "id": "4bed6a57-ab3d-4313-84b1-eae4c6d7592c",
   "metadata": {},
   "outputs": [],
   "source": [
    "for line in handle:\n",
    "    if not line.startswith('From '):\n",
    "        continue\n",
    "    words = line.split()\n",
    "    contacts[words[1]] = contacts.get(words[1], 0) + 1"
   ]
  },
  {
   "cell_type": "code",
   "execution_count": 11,
   "id": "9af3644b-07a0-4177-9e0e-1aced4801d69",
   "metadata": {},
   "outputs": [
    {
     "name": "stdout",
     "output_type": "stream",
     "text": [
      "stephen.marquard@uct.ac.za 2\n",
      "louis@media.berkeley.edu 3\n",
      "zqian@umich.edu 4\n",
      "rjlowe@iupui.edu 2\n",
      "cwen@iupui.edu 5\n",
      "gsilver@umich.edu 3\n",
      "wagnermr@iupui.edu 1\n",
      "antranig@caret.cam.ac.uk 1\n",
      "gopal.ramasammycook@gmail.com 1\n",
      "david.horwitz@uct.ac.za 4\n",
      "ray@media.berkeley.edu 1\n"
     ]
    }
   ],
   "source": [
    "for key in contacts:\n",
    "    print(key, contacts[key])"
   ]
  },
  {
   "cell_type": "code",
   "execution_count": 12,
   "id": "3d3d444f-1c40-4dc6-a1f5-3c6aa8b6df44",
   "metadata": {},
   "outputs": [],
   "source": [
    "max_contact = None\n",
    "max_number = None"
   ]
  },
  {
   "cell_type": "code",
   "execution_count": 13,
   "id": "599740c6-f185-4e13-b3be-ee83c6e53d21",
   "metadata": {},
   "outputs": [],
   "source": [
    "for key in contacts:\n",
    "    if max_number is None or contacts[key] > max_number:\n",
    "        max_number = contacts[key]\n",
    "        max_contact = key"
   ]
  },
  {
   "cell_type": "code",
   "execution_count": 14,
   "id": "f72e0136-2691-4584-b15b-56803434de67",
   "metadata": {},
   "outputs": [
    {
     "name": "stdout",
     "output_type": "stream",
     "text": [
      "cwen@iupui.edu 5\n"
     ]
    }
   ],
   "source": [
    "print(max_contact, max_number)"
   ]
  }
 ],
 "metadata": {
  "kernelspec": {
   "display_name": "Python 3 (ipykernel)",
   "language": "python",
   "name": "python3"
  },
  "language_info": {
   "codemirror_mode": {
    "name": "ipython",
    "version": 3
   },
   "file_extension": ".py",
   "mimetype": "text/x-python",
   "name": "python",
   "nbconvert_exporter": "python",
   "pygments_lexer": "ipython3",
   "version": "3.11.8"
  }
 },
 "nbformat": 4,
 "nbformat_minor": 5
}
