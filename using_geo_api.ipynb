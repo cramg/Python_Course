{
 "cells": [
  {
   "cell_type": "markdown",
   "id": "29b6808b-69d8-4cb4-942a-55e6c6d81c09",
   "metadata": {},
   "source": [
    "# Using a Geo Location API"
   ]
  },
  {
   "cell_type": "markdown",
   "id": "ec41093a-37e8-4869-8482-7b90b3cc74fe",
   "metadata": {},
   "source": [
    "### **Calling a JSON API**"
   ]
  },
  {
   "cell_type": "markdown",
   "id": "0b9128a6-e06d-40c7-845e-999cd318ee63",
   "metadata": {},
   "source": [
    "In this assignment you will write a Python program somewhat similar to http://www.py4e.com/code3/opengeo.py. The program will prompt for a location, contact a web service and retrieve JSON for the web service and parse that data, and retrieve the first **plus_code** from the JSON. An *Open Location Code* is a textual identifier that is another form of address based on the location of the address. "
   ]
  },
  {
   "cell_type": "markdown",
   "id": "efa1af53-f5e6-42f6-bd3b-b12f22d3afd7",
   "metadata": {},
   "source": [
    "### **API End Points**"
   ]
  },
  {
   "cell_type": "markdown",
   "id": "7e9b3f18-e232-4b97-9f63-c86542a4254b",
   "metadata": {},
   "source": [
    " To complete this assignment, you should use this API endpoint that has a static subset of the Open Street Map Data. \n",
    "\n",
    "```\n",
    "http://py4e-data.dr-chuck.net/opengeo?\n",
    "```\n",
    "\n",
    "This API also has no rate limit so you can test as often as you like. If you visit the URL with no parameters, you get **\"No address...\"** response.\n",
    "\n",
    "To call the API, you need to provide the address that you are requesting as the **q=** parameter that is properly URL encoded using the **urllib.parse.urlencode()** function as shown in http://www.py4e.com/code3/opengeo.py "
   ]
  },
  {
   "cell_type": "markdown",
   "id": "9c93191b-5792-4494-8dd3-2122a9b43b9e",
   "metadata": {},
   "source": [
    "### **Test Data / Sample Execution**\n",
    "\n",
    "You can test to see if your program is working with a location of \"South Federal University\" which will have a plus_code of \"6FV8QPRJ+VQ\". \n",
    "\n",
    "```\n",
    "$ python solution.py\n",
    "Enter location: South Federal University\n",
    "Retrieving http://...\n",
    "Retrieved 1290 characters\n",
    "Plus code 6FV8QPRJ+VQ\n",
    "```"
   ]
  },
  {
   "cell_type": "markdown",
   "id": "02909c17-402c-4589-8dac-0179fc9214a2",
   "metadata": {},
   "source": [
    "### **Turn In**\n",
    "\n",
    "Please run your program to find the **plus_code** for this location: \n",
    "\n",
    "```\n",
    "Indian Institute of Technology\n",
    "```\n",
    "Make sure to enter the name and case exactly as above and enter the **plus_code** and your Python code below. ***Hint:*** The first five characters of the **plus_code** are \"7MQ47 ...\"\n",
    "\n",
    "Make sure to retreive the data from the URL specified above and **not** the normal Google API. Your program should work with the Google API - but the **plus_code** may not match for this assignment. "
   ]
  },
  {
   "cell_type": "code",
   "execution_count": 1,
   "id": "879c1f9c-c437-4a03-9ab7-9b6152ea4805",
   "metadata": {},
   "outputs": [],
   "source": [
    "import urllib.request, urllib.parse\n",
    "import json, ssl"
   ]
  },
  {
   "cell_type": "code",
   "execution_count": 2,
   "id": "29dfaf4f-2afa-4064-8343-3ef92855358d",
   "metadata": {},
   "outputs": [],
   "source": [
    "# Heavily rate limited proxy of https://www.geoapify.com/ api\n",
    "serviceurl = 'https://py4e-data.dr-chuck.net/opengeo?'"
   ]
  },
  {
   "cell_type": "code",
   "execution_count": 3,
   "id": "c18193f9-989a-4166-af91-11b667e960a3",
   "metadata": {},
   "outputs": [],
   "source": [
    "# Ignore SSL certificate errors\n",
    "ctx = ssl.create_default_context()\n",
    "ctx.check_hostname = False\n",
    "ctx.verify_mode = ssl.CERT_NONE"
   ]
  },
  {
   "cell_type": "code",
   "execution_count": 4,
   "id": "de1ba650-a6c0-44f7-b88f-c63c94963471",
   "metadata": {},
   "outputs": [
    {
     "name": "stdin",
     "output_type": "stream",
     "text": [
      "Enter location:  Indian Institute of Technology\n"
     ]
    },
    {
     "name": "stdout",
     "output_type": "stream",
     "text": [
      "Retrieving https://py4e-data.dr-chuck.net/opengeo?q=Indian+Institute+of+Technology\n",
      "Retrieved 1652 characters\n"
     ]
    }
   ],
   "source": [
    "address = input('Enter location: ')\n",
    "\n",
    "address = address.strip()\n",
    "parms = dict()\n",
    "parms['q'] = address\n",
    "\n",
    "url = serviceurl + urllib.parse.urlencode(parms)\n",
    "\n",
    "print('Retrieving', url)\n",
    "uh = urllib.request.urlopen(url, context=ctx)\n",
    "data = uh.read().decode()\n",
    "print('Retrieved', len(data), 'characters')\n",
    "\n",
    "try:\n",
    "    js = json.loads(data)\n",
    "except:\n",
    "    js = None\n",
    "\n",
    "if not js or 'features' not in js:\n",
    "    print('==== Download error ===')\n",
    "    print(data)\n",
    "\n",
    "if len(js['features']) == 0:\n",
    "    print('==== Object not found ====')\n",
    "    print(data)"
   ]
  },
  {
   "cell_type": "code",
   "execution_count": 5,
   "id": "16b450b7-07f5-4663-aeb5-450f57b3e88d",
   "metadata": {},
   "outputs": [
    {
     "name": "stdout",
     "output_type": "stream",
     "text": [
      "Plus Code 7J9WCGCR+X5\n"
     ]
    }
   ],
   "source": [
    "plus_code = location = js['features'][0]['properties']['plus_code']\n",
    "print('Plus Code', plus_code)"
   ]
  },
  {
   "cell_type": "code",
   "execution_count": null,
   "id": "8412c7c6-7384-4aed-a46d-7fcf58c3a2e4",
   "metadata": {},
   "outputs": [],
   "source": []
  }
 ],
 "metadata": {
  "kernelspec": {
   "display_name": "Python 3 (ipykernel)",
   "language": "python",
   "name": "python3"
  },
  "language_info": {
   "codemirror_mode": {
    "name": "ipython",
    "version": 3
   },
   "file_extension": ".py",
   "mimetype": "text/x-python",
   "name": "python",
   "nbconvert_exporter": "python",
   "pygments_lexer": "ipython3",
   "version": "3.11.6"
  }
 },
 "nbformat": 4,
 "nbformat_minor": 5
}
