{
 "cells": [
  {
   "cell_type": "code",
   "execution_count": 1,
   "id": "a00b1f56-e54e-4bd7-8cab-664c285549f1",
   "metadata": {},
   "outputs": [],
   "source": [
    "counts = dict()"
   ]
  },
  {
   "cell_type": "code",
   "execution_count": 2,
   "id": "16a96a46-f103-4979-9fd6-4323e78c1f80",
   "metadata": {},
   "outputs": [],
   "source": [
    "names = ['aa', 'bb', 'aa', 'cc', 'cc', 'bb', 'aa', 'bb', 'bb']"
   ]
  },
  {
   "cell_type": "code",
   "execution_count": 3,
   "id": "91c85a9a-ff05-49c3-a34e-ebb9d250992e",
   "metadata": {},
   "outputs": [],
   "source": [
    "for name in names:\n",
    "    counts[name] = counts.get(name, 0) + 1"
   ]
  },
  {
   "cell_type": "code",
   "execution_count": 4,
   "id": "0bf142a9-3ab0-4900-9d05-efd98e625252",
   "metadata": {},
   "outputs": [
    {
     "name": "stdout",
     "output_type": "stream",
     "text": [
      "{'aa': 3, 'bb': 4, 'cc': 2}\n"
     ]
    }
   ],
   "source": [
    "print(counts)"
   ]
  },
  {
   "cell_type": "code",
   "execution_count": 6,
   "id": "ff9744a5-0e83-4b89-b1d9-ded612c086f4",
   "metadata": {},
   "outputs": [
    {
     "data": {
      "text/plain": [
       "\u001b[0;31mSignature:\u001b[0m \u001b[0mcounts\u001b[0m\u001b[0;34m.\u001b[0m\u001b[0mget\u001b[0m\u001b[0;34m(\u001b[0m\u001b[0mkey\u001b[0m\u001b[0;34m,\u001b[0m \u001b[0mdefault\u001b[0m\u001b[0;34m=\u001b[0m\u001b[0;32mNone\u001b[0m\u001b[0;34m,\u001b[0m \u001b[0;34m/\u001b[0m\u001b[0;34m)\u001b[0m\u001b[0;34m\u001b[0m\u001b[0;34m\u001b[0m\u001b[0m\n",
       "\u001b[0;31mDocstring:\u001b[0m Return the value for key if key is in the dictionary, else default.\n",
       "\u001b[0;31mType:\u001b[0m      builtin_function_or_method"
      ]
     },
     "metadata": {},
     "output_type": "display_data"
    }
   ],
   "source": [
    "counts.get?"
   ]
  },
  {
   "cell_type": "code",
   "execution_count": null,
   "id": "c5c2f5ff-6bf0-496b-abf4-8775de1daeb5",
   "metadata": {},
   "outputs": [],
   "source": []
  }
 ],
 "metadata": {
  "kernelspec": {
   "display_name": "Python 3 (ipykernel)",
   "language": "python",
   "name": "python3"
  },
  "language_info": {
   "codemirror_mode": {
    "name": "ipython",
    "version": 3
   },
   "file_extension": ".py",
   "mimetype": "text/x-python",
   "name": "python",
   "nbconvert_exporter": "python",
   "pygments_lexer": "ipython3",
   "version": "3.11.8"
  }
 },
 "nbformat": 4,
 "nbformat_minor": 5
}
