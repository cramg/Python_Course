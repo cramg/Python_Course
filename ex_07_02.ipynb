{
 "cells": [
  {
   "cell_type": "code",
   "execution_count": 3,
   "id": "7fd5c920-8d6b-4af5-bf0f-e73b4a718669",
   "metadata": {},
   "outputs": [
    {
     "name": "stdin",
     "output_type": "stream",
     "text": [
      "Enter file name:  mbox-short.txt\n"
     ]
    },
    {
     "name": "stdout",
     "output_type": "stream",
     "text": [
      "X-DSPAM-Confidence: 0.8475\n",
      "\n",
      "X-DSPAM-Confidence: 0.6178\n",
      "\n",
      "X-DSPAM-Confidence: 0.6961\n",
      "\n",
      "X-DSPAM-Confidence: 0.7565\n",
      "\n",
      "X-DSPAM-Confidence: 0.7626\n",
      "\n",
      "X-DSPAM-Confidence: 0.7556\n",
      "\n",
      "X-DSPAM-Confidence: 0.7002\n",
      "\n",
      "X-DSPAM-Confidence: 0.7615\n",
      "\n",
      "X-DSPAM-Confidence: 0.7601\n",
      "\n",
      "X-DSPAM-Confidence: 0.7605\n",
      "\n",
      "X-DSPAM-Confidence: 0.6959\n",
      "\n",
      "X-DSPAM-Confidence: 0.7606\n",
      "\n",
      "X-DSPAM-Confidence: 0.7559\n",
      "\n",
      "X-DSPAM-Confidence: 0.7605\n",
      "\n",
      "X-DSPAM-Confidence: 0.6932\n",
      "\n",
      "X-DSPAM-Confidence: 0.7558\n",
      "\n",
      "X-DSPAM-Confidence: 0.6526\n",
      "\n",
      "X-DSPAM-Confidence: 0.6948\n",
      "\n",
      "X-DSPAM-Confidence: 0.6528\n",
      "\n",
      "X-DSPAM-Confidence: 0.7002\n",
      "\n",
      "X-DSPAM-Confidence: 0.7554\n",
      "\n",
      "X-DSPAM-Confidence: 0.6956\n",
      "\n",
      "X-DSPAM-Confidence: 0.6959\n",
      "\n",
      "X-DSPAM-Confidence: 0.7556\n",
      "\n",
      "X-DSPAM-Confidence: 0.9846\n",
      "\n",
      "X-DSPAM-Confidence: 0.8509\n",
      "\n",
      "X-DSPAM-Confidence: 0.9907\n",
      "\n",
      "Done\n"
     ]
    }
   ],
   "source": [
    "fname = input(\"Enter file name: \")\n",
    "fh = open(fname)\n",
    "for line in fh:\n",
    "    if not line.startswith(\"X-DSPAM-Confidence:\"):\n",
    "        continue\n",
    "    print(line)\n",
    "print(\"Done\")"
   ]
  },
  {
   "cell_type": "code",
   "execution_count": null,
   "id": "e126d73b-12d0-4b25-88c0-3f5a61216c29",
   "metadata": {},
   "outputs": [],
   "source": []
  }
 ],
 "metadata": {
  "kernelspec": {
   "display_name": "Python 3 (ipykernel)",
   "language": "python",
   "name": "python3"
  },
  "language_info": {
   "codemirror_mode": {
    "name": "ipython",
    "version": 3
   },
   "file_extension": ".py",
   "mimetype": "text/x-python",
   "name": "python",
   "nbconvert_exporter": "python",
   "pygments_lexer": "ipython3",
   "version": "3.11.8"
  }
 },
 "nbformat": 4,
 "nbformat_minor": 5
}
