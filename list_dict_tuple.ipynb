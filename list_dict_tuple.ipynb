{
 "cells": [
  {
   "cell_type": "code",
   "execution_count": 1,
   "id": "991e8020-de83-4d32-adcc-04de4aa49b68",
   "metadata": {},
   "outputs": [],
   "source": [
    "fhand = open('romeo.txt')"
   ]
  },
  {
   "cell_type": "code",
   "execution_count": 2,
   "id": "41914998-744f-447b-acb8-e11123575b6e",
   "metadata": {},
   "outputs": [],
   "source": [
    "counts = dict()"
   ]
  },
  {
   "cell_type": "code",
   "execution_count": 3,
   "id": "35f907bd-736f-4623-8e5c-8a6dd1edfcb1",
   "metadata": {},
   "outputs": [],
   "source": [
    "for line in fhand:\n",
    "    words = line.split()\n",
    "    for word in words:\n",
    "        counts[word] = counts.get(word, 0) + 1"
   ]
  },
  {
   "cell_type": "code",
   "execution_count": 4,
   "id": "46896bdf-9370-481e-b71a-f97c0b61c5f1",
   "metadata": {},
   "outputs": [],
   "source": [
    "lst = list()\n",
    "\n",
    "for key, val in counts.items():\n",
    "    newtup = (val, key)\n",
    "    lst.append(newtup)\n",
    "\n",
    "lst = sorted(lst, reverse=True)"
   ]
  },
  {
   "cell_type": "code",
   "execution_count": 5,
   "id": "2480279c-59d2-4370-8858-65dbf4f32674",
   "metadata": {},
   "outputs": [
    {
     "name": "stdout",
     "output_type": "stream",
     "text": [
      "the 3\n",
      "is 3\n",
      "and 3\n",
      "sun 2\n",
      "yonder 1\n",
      "with 1\n",
      "window 1\n",
      "what 1\n",
      "through 1\n",
      "soft 1\n"
     ]
    }
   ],
   "source": [
    "for val, key in lst[:10]:\n",
    "    print(key, val)"
   ]
  },
  {
   "cell_type": "markdown",
   "id": "33ca2fba-7177-4f37-88a2-3a83f122de34",
   "metadata": {},
   "source": [
    "Otra forma de escribir la celda #4, es:"
   ]
  },
  {
   "cell_type": "code",
   "execution_count": 6,
   "id": "afc06887-4784-499b-a6c8-60912f05798d",
   "metadata": {},
   "outputs": [],
   "source": [
    "another_lst = sorted([(val, key) for key, val in counts.items()], reverse=True)"
   ]
  },
  {
   "cell_type": "code",
   "execution_count": 7,
   "id": "2a93f7fe-714c-436e-962b-4607dcb0ae45",
   "metadata": {},
   "outputs": [
    {
     "data": {
      "text/plain": [
       "True"
      ]
     },
     "execution_count": 7,
     "metadata": {},
     "output_type": "execute_result"
    }
   ],
   "source": [
    "another_lst == lst"
   ]
  },
  {
   "cell_type": "code",
   "execution_count": 8,
   "id": "fc870665-5e6e-4a66-b0ae-2a7530e4d2ef",
   "metadata": {},
   "outputs": [
    {
     "data": {
      "text/plain": [
       "\u001b[0;31mSignature:\u001b[0m \u001b[0mstr\u001b[0m\u001b[0;34m.\u001b[0m\u001b[0msplit\u001b[0m\u001b[0;34m(\u001b[0m\u001b[0mself\u001b[0m\u001b[0;34m,\u001b[0m \u001b[0;34m/\u001b[0m\u001b[0;34m,\u001b[0m \u001b[0msep\u001b[0m\u001b[0;34m=\u001b[0m\u001b[0;32mNone\u001b[0m\u001b[0;34m,\u001b[0m \u001b[0mmaxsplit\u001b[0m\u001b[0;34m=\u001b[0m\u001b[0;34m-\u001b[0m\u001b[0;36m1\u001b[0m\u001b[0;34m)\u001b[0m\u001b[0;34m\u001b[0m\u001b[0;34m\u001b[0m\u001b[0m\n",
       "\u001b[0;31mDocstring:\u001b[0m\n",
       "Return a list of the substrings in the string, using sep as the separator string.\n",
       "\n",
       "  sep\n",
       "    The separator used to split the string.\n",
       "\n",
       "    When set to None (the default value), will split on any whitespace\n",
       "    character (including \\n \\r \\t \\f and spaces) and will discard\n",
       "    empty strings from the result.\n",
       "  maxsplit\n",
       "    Maximum number of splits.\n",
       "    -1 (the default value) means no limit.\n",
       "\n",
       "Splitting starts at the front of the string and works to the end.\n",
       "\n",
       "Note, str.split() is mainly useful for data that has been intentionally\n",
       "delimited.  With natural text that includes punctuation, consider using\n",
       "the regular expression module.\n",
       "\u001b[0;31mType:\u001b[0m      method_descriptor"
      ]
     },
     "metadata": {},
     "output_type": "display_data"
    }
   ],
   "source": [
    "str.split?"
   ]
  },
  {
   "cell_type": "code",
   "execution_count": null,
   "id": "67e24f19-fd6e-4a38-b197-3e9a7586c772",
   "metadata": {},
   "outputs": [],
   "source": []
  }
 ],
 "metadata": {
  "kernelspec": {
   "display_name": "Python 3 (ipykernel)",
   "language": "python",
   "name": "python3"
  },
  "language_info": {
   "codemirror_mode": {
    "name": "ipython",
    "version": 3
   },
   "file_extension": ".py",
   "mimetype": "text/x-python",
   "name": "python",
   "nbconvert_exporter": "python",
   "pygments_lexer": "ipython3",
   "version": "3.11.8"
  }
 },
 "nbformat": 4,
 "nbformat_minor": 5
}
