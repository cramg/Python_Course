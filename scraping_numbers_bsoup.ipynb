{
 "cells": [
  {
   "cell_type": "markdown",
   "id": "d84be686-5504-4e5a-b7ef-378199f32f9b",
   "metadata": {},
   "source": [
    "# Scraping HTML Data with BeautifulSoup"
   ]
  },
  {
   "cell_type": "markdown",
   "id": "9b39cd12-2626-4462-9d93-6337c5acefa7",
   "metadata": {},
   "source": [
    "In this assignment you will write a Python program similar to http://www.py4e.com/code3/urllink2.py. The program will use urllib to read the HTML from the data files below, and parse the data, extracting numbers and compute the sum of the numbers in the file.\n",
    "\n",
    "We provide two files for this assignment. One is a sample file where we give you the sum for your testing and the other is the actual data you need to process for the assignment. "
   ]
  },
  {
   "cell_type": "markdown",
   "id": "9e8f5b02-53f8-403a-b06b-a9a8f5d2d076",
   "metadata": {},
   "source": [
    "- Sample data: http://py4e-data.dr-chuck.net/comments_42.html (Sum=2553) \n",
    "- Actual data: http://py4e-data.dr-chuck.net/comments_1988958.html (Sum ends in 73) "
   ]
  },
  {
   "cell_type": "markdown",
   "id": "7b36c3e7-66ea-4382-8570-b5a6e08352db",
   "metadata": {},
   "source": [
    "You do not need to save these files to your folder since your program will read the data directly from the URL. **Note**: Each student will have a distinct data url for the assignment - so only use your own data url for analysis. "
   ]
  },
  {
   "cell_type": "markdown",
   "id": "9cb2c0fa-e06f-4b0b-b321-dfb4651c7730",
   "metadata": {},
   "source": [
    "**Data Format**\n",
    "\n",
    "The file is a table of names and comment counts. You can ignore most of the data in the file except for lines like the following: \n",
    "\n",
    "```\n",
    "<tr><td>Modu</td><td><span class=\"comments\">90</span></td></tr>\n",
    "<tr><td>Kenzie</td><td><span class=\"comments\">88</span></td></tr>\n",
    "<tr><td>Hubert</td><td><span class=\"comments\">87</span></td></tr>\n",
    "```"
   ]
  },
  {
   "cell_type": "markdown",
   "id": "95b24c26-7fb0-4e03-99d4-a72417adbcdb",
   "metadata": {},
   "source": [
    "You are to find all the \\<span\\> tags in the file and pull out the numbers from the tag and sum the numbers.\n",
    "\n",
    "Look at the sample code provided. It shows how to find all of a certain kind of tag, loop through the tags and extract the various aspects of the tags. "
   ]
  },
  {
   "cell_type": "markdown",
   "id": "7e4508a6-dc22-4135-a52b-956e61a36e8c",
   "metadata": {},
   "source": [
    "```\n",
    "...\n",
    "# Retrieve all of the anchor tags\n",
    "tags = soup('a')\n",
    "for tag in tags:\n",
    "   # Look at the parts of a tag\n",
    "   print 'TAG:',tag\n",
    "   print 'URL:',tag.get('href', None)\n",
    "   print 'Contents:',tag.contents[0]\n",
    "   print 'Attrs:',tag.attrs\n",
    "```"
   ]
  },
  {
   "cell_type": "markdown",
   "id": "69452aea-8716-4428-9850-f4a0d205572d",
   "metadata": {},
   "source": [
    "You need to adjust this code to look for **span** tags and pull out the text content of the span tag, convert them to integers and add them up to complete the assignment. "
   ]
  },
  {
   "cell_type": "markdown",
   "id": "e0c51d8c-3702-4193-a49f-eab1d13f3be7",
   "metadata": {},
   "source": [
    "**Sample Execution**\n",
    "\n",
    "```\n",
    "$ python3 solution.py\n",
    "Enter - http://py4e-data.dr-chuck.net/comments_42.html\n",
    "Count 50\n",
    "Sum 2...\n",
    "```"
   ]
  },
  {
   "cell_type": "code",
   "execution_count": 1,
   "id": "8b41624a-583f-4835-bbf3-857db35098e1",
   "metadata": {},
   "outputs": [],
   "source": [
    "from urllib.request import urlopen\n",
    "from bs4 import BeautifulSoup\n",
    "import ssl"
   ]
  },
  {
   "cell_type": "code",
   "execution_count": 2,
   "id": "548029ef-4eea-4b73-9d97-ed3c9a7f1c08",
   "metadata": {},
   "outputs": [],
   "source": [
    "# Ignore SSL certificate errors\n",
    "ctx = ssl.create_default_context()\n",
    "ctx.check_hostname = False\n",
    "ctx.verify_mode = ssl.CERT_NONE"
   ]
  },
  {
   "cell_type": "code",
   "execution_count": 8,
   "id": "16b4cfb2-0772-4ed8-82fb-154dfe5f942b",
   "metadata": {},
   "outputs": [],
   "source": [
    "url = \"http://py4e-data.dr-chuck.net/comments_1988958.html\"\n",
    "html = urlopen(url, context=ctx).read()\n",
    "soup = BeautifulSoup(html, \"html.parser\")"
   ]
  },
  {
   "cell_type": "code",
   "execution_count": 9,
   "id": "1b61b8a5-0a7e-48be-b9f5-85d616848c62",
   "metadata": {},
   "outputs": [],
   "source": [
    "# Retrieve all of the span tags\n",
    "tags = soup('span')\n",
    "count = 0\n",
    "total = 0"
   ]
  },
  {
   "cell_type": "code",
   "execution_count": 10,
   "id": "72276ad1-f143-4e03-b645-510543559688",
   "metadata": {},
   "outputs": [],
   "source": [
    "for tag in tags:\n",
    "    number = tag.get_text()\n",
    "    count += 1\n",
    "    total += int(number)"
   ]
  },
  {
   "cell_type": "code",
   "execution_count": 11,
   "id": "017b01ab-337d-470f-8685-f00d5fd15c93",
   "metadata": {},
   "outputs": [
    {
     "data": {
      "text/plain": [
       "50"
      ]
     },
     "execution_count": 11,
     "metadata": {},
     "output_type": "execute_result"
    }
   ],
   "source": [
    "count"
   ]
  },
  {
   "cell_type": "code",
   "execution_count": 12,
   "id": "e193cdae-0884-4f7e-b0e6-e86befe3245b",
   "metadata": {},
   "outputs": [
    {
     "data": {
      "text/plain": [
       "2473"
      ]
     },
     "execution_count": 12,
     "metadata": {},
     "output_type": "execute_result"
    }
   ],
   "source": [
    "total"
   ]
  }
 ],
 "metadata": {
  "kernelspec": {
   "display_name": "Python 3 (ipykernel)",
   "language": "python",
   "name": "python3"
  },
  "language_info": {
   "codemirror_mode": {
    "name": "ipython",
    "version": 3
   },
   "file_extension": ".py",
   "mimetype": "text/x-python",
   "name": "python",
   "nbconvert_exporter": "python",
   "pygments_lexer": "ipython3",
   "version": "3.11.8"
  }
 },
 "nbformat": 4,
 "nbformat_minor": 5
}
