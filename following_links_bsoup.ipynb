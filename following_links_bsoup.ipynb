{
 "cells": [
  {
   "cell_type": "markdown",
   "id": "2dd89e0f-f243-4ca9-98fe-be3fa4ca77f4",
   "metadata": {},
   "source": [
    "# Assignment: Following Links in HTML Using BeautifulSoup"
   ]
  },
  {
   "cell_type": "markdown",
   "id": "44390e61-61a9-447c-92c2-41435b3881aa",
   "metadata": {},
   "source": [
    " **Following Links in Python**\n",
    "\n",
    "In this assignment you will write a Python program that expands on http://www.py4e.com/code3/urllinks.py. The program will use **urllib** to read the HTML from the data files below, extract the href= values from the anchor tags, scan for a tag that is in a particular position relative to the first name in the list, follow that link and repeat the process a number of times and report the last name you find.\n",
    "\n",
    "We provide two files for this assignment. One is a sample file where we give you the name for your testing and the other is the actual data you need to process for the assignment\n",
    "\n",
    "- Sample problem: Start at http://py4e-data.dr-chuck.net/known_by_Fikret.html <br> \n",
    "Find the link at position **3** (the first name is 1). Follow that link. Repeat this process **4** times. The answer is the last name that you retrieve. <br>\n",
    "Sequence of names: Fikret Montgomery Mhairade Butchi Anayah <br>\n",
    "Last name in sequence: Anayah\n",
    "\n",
    "- Actual problem: Start at: http://py4e-data.dr-chuck.net/known_by_Manisha.html <br>\n",
    "Find the link at position **18** (the first name is 1). Follow that link. Repeat this process **7** times. The answer is the last name that you retrieve. <br>\n",
    "Hint: The first character of the name of the last page that you will load is: E"
   ]
  },
  {
   "cell_type": "markdown",
   "id": "921a35b8-d76f-4ae0-9310-0f6c9a7005e7",
   "metadata": {},
   "source": [
    "**Strategy**\n",
    "\n",
    "The web pages tweak the height between the links and hide the page after a few seconds to make it difficult for you to do the assignment without writing a Python program. But frankly with a little effort and patience you can overcome these attempts to make it a little harder to complete the assignment without writing a Python program. But that is not the point. The point is to write a clever Python program to solve the program. "
   ]
  },
  {
   "cell_type": "markdown",
   "id": "43ccd705-b256-4447-a9af-e956a7fdd57c",
   "metadata": {},
   "source": [
    "**Sample execution**\n",
    "\n",
    "Here is a sample execution of a solution:\n",
    "\n",
    "```\n",
    "$ python3 solution.py\n",
    "Enter URL: http://py4e-data.dr-chuck.net/known_by_Fikret.html\n",
    "Enter count: 4\n",
    "Enter position: 3\n",
    "Retrieving: http://py4e-data.dr-chuck.net/known_by_Fikret.html\n",
    "Retrieving: http://py4e-data.dr-chuck.net/known_by_Montgomery.html\n",
    "Retrieving: http://py4e-data.dr-chuck.net/known_by_Mhairade.html\n",
    "Retrieving: http://py4e-data.dr-chuck.net/known_by_Butchi.html\n",
    "Retrieving: http://py4e-data.dr-chuck.net/known_by_Anayah.html\n",
    "```\n",
    "\n",
    "The answer to the assignment for this execution is \"Anayah\". "
   ]
  },
  {
   "cell_type": "code",
   "execution_count": 1,
   "id": "a8f4c11c-bdc5-4ad5-8505-da711250a364",
   "metadata": {},
   "outputs": [],
   "source": [
    "import urllib.request, urllib.parse, urllib.error\n",
    "from bs4 import BeautifulSoup\n",
    "import ssl"
   ]
  },
  {
   "cell_type": "code",
   "execution_count": 2,
   "id": "68eca2f6-3e72-4262-8c1a-31b2a408dca1",
   "metadata": {},
   "outputs": [],
   "source": [
    "# Ignore SSL certificate errors\n",
    "ctx = ssl.create_default_context()\n",
    "ctx.check_hostname = False\n",
    "ctx.verify_mode = ssl.CERT_NONE"
   ]
  },
  {
   "cell_type": "code",
   "execution_count": 3,
   "id": "b9a58973-838a-4f79-a4a9-87bb53595fe4",
   "metadata": {},
   "outputs": [
    {
     "name": "stdin",
     "output_type": "stream",
     "text": [
      "Enter count: 4\n",
      "Enter position: 3\n"
     ]
    }
   ],
   "source": [
    "url = 'http://py4e-data.dr-chuck.net/known_by_Montgomery.html'\n",
    "scount = input('Enter count:')\n",
    "count = int(scount)\n",
    "spos = input('Enter position:')\n",
    "pos = int(spos)\n",
    "html = urllib.request.urlopen(url, context=ctx).read()\n",
    "soup = BeautifulSoup(html, 'html.parser')"
   ]
  },
  {
   "cell_type": "code",
   "execution_count": 4,
   "id": "3f3874d5-19bb-480e-acbd-23f77e895a84",
   "metadata": {},
   "outputs": [],
   "source": [
    "# Retrieve all of the anchor tags\n",
    "tags = soup('a')\n",
    "links = []\n",
    "for tag in tags:\n",
    "    links.append(tag.get('href', None))"
   ]
  },
  {
   "cell_type": "code",
   "execution_count": 9,
   "id": "a16beecd-8367-4550-bea7-72c6cdc5406d",
   "metadata": {},
   "outputs": [
    {
     "name": "stdout",
     "output_type": "stream",
     "text": [
      "http://py4e-data.dr-chuck.net/known_by_Mhairade.html\n"
     ]
    }
   ],
   "source": [
    "url = links[2]\n",
    "print(links[2])"
   ]
  },
  {
   "cell_type": "code",
   "execution_count": 10,
   "id": "be2b29e5-4b0c-4c0d-91ac-ca4aa9810d90",
   "metadata": {},
   "outputs": [],
   "source": [
    "html = urllib.request.urlopen(url, context=ctx).read()\n",
    "soup = BeautifulSoup(html, 'html.parser')"
   ]
  },
  {
   "cell_type": "code",
   "execution_count": 11,
   "id": "20eabce0-e722-4042-a4c3-90c4f1ef5c21",
   "metadata": {},
   "outputs": [],
   "source": [
    "tags = soup('a')\n",
    "links = []\n",
    "for tag in tags:\n",
    "    links.append(tag.get('href', None))"
   ]
  },
  {
   "cell_type": "code",
   "execution_count": 12,
   "id": "925a3671-dbbf-490e-b2ca-8feccee8dfd2",
   "metadata": {},
   "outputs": [
    {
     "name": "stdout",
     "output_type": "stream",
     "text": [
      "http://py4e-data.dr-chuck.net/known_by_Butchi.html\n"
     ]
    }
   ],
   "source": [
    "url = links[2]\n",
    "print(links[2])"
   ]
  },
  {
   "cell_type": "code",
   "execution_count": 13,
   "id": "bcc1f86a-5982-4796-9ff2-c6768795d152",
   "metadata": {},
   "outputs": [],
   "source": [
    "html = urllib.request.urlopen(url, context=ctx).read()\n",
    "soup = BeautifulSoup(html, 'html.parser')"
   ]
  },
  {
   "cell_type": "code",
   "execution_count": 14,
   "id": "07e73b0e-a83a-41eb-84e9-535cf7f7c424",
   "metadata": {},
   "outputs": [],
   "source": [
    "tags = soup('a')\n",
    "links = []\n",
    "for tag in tags:\n",
    "    links.append(tag.get('href', None))"
   ]
  },
  {
   "cell_type": "code",
   "execution_count": 15,
   "id": "901e8fd9-fb25-40ca-b0ff-c285f1b3969c",
   "metadata": {},
   "outputs": [
    {
     "name": "stdout",
     "output_type": "stream",
     "text": [
      "http://py4e-data.dr-chuck.net/known_by_Anayah.html\n"
     ]
    }
   ],
   "source": [
    "url = links[2]\n",
    "print(links[2])"
   ]
  },
  {
   "cell_type": "code",
   "execution_count": 16,
   "id": "fc83a466-64a0-4ffc-a864-9456044f5683",
   "metadata": {},
   "outputs": [
    {
     "name": "stdout",
     "output_type": "stream",
     "text": [
      "0\n",
      "1\n",
      "2\n",
      "3\n"
     ]
    }
   ],
   "source": [
    "for ww in range(4):\n",
    "    print(ww)"
   ]
  },
  {
   "cell_type": "markdown",
   "id": "ad128ef8-3a9a-493b-b160-9303dc92e409",
   "metadata": {},
   "source": [
    "# Ver solución en following_"
   ]
  }
 ],
 "metadata": {
  "kernelspec": {
   "display_name": "Python 3 (ipykernel)",
   "language": "python",
   "name": "python3"
  },
  "language_info": {
   "codemirror_mode": {
    "name": "ipython",
    "version": 3
   },
   "file_extension": ".py",
   "mimetype": "text/x-python",
   "name": "python",
   "nbconvert_exporter": "python",
   "pygments_lexer": "ipython3",
   "version": "3.11.6"
  }
 },
 "nbformat": 4,
 "nbformat_minor": 5
}
