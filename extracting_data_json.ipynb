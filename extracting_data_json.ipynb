{
 "cells": [
  {
   "cell_type": "markdown",
   "id": "f5855df4-422f-48eb-91d9-6356008517a6",
   "metadata": {},
   "source": [
    "#  Extracting Data from JSON "
   ]
  },
  {
   "cell_type": "markdown",
   "id": "8fc41ce9-2792-4e24-a654-fab2da2640fd",
   "metadata": {},
   "source": [
    "In this assignment you will write a Python program somewhat similar to http://www.py4e.com/code3/json2.py. The program will prompt for a URL, read the JSON data from that URL using **urllib** and then parse and extract the comment counts from the JSON data, compute the sum of the numbers in the file and enter the sum below:"
   ]
  },
  {
   "cell_type": "markdown",
   "id": "cb5cecd4-eda9-428a-854a-6d8f7bc3c9d5",
   "metadata": {},
   "source": [
    " We provide two files for this assignment. One is a sample file where we give you the sum for your testing and the other is the actual data you need to process for the assignment.\n",
    "\n",
    "- Sample data: http://py4e-data.dr-chuck.net/comments_42.json (Sum=2553)\n",
    "- Actual data: http://py4e-data.dr-chuck.net/comments_1988961.json (Sum ends with 47)\n",
    "\n",
    "You do not need to save these files to your folder since your program will read the data directly from the URL. **Note:** Each student will have a distinct data url for the assignment - so only use your own data url for analysis. "
   ]
  },
  {
   "cell_type": "markdown",
   "id": "a57fd92b-6e76-4b2d-93dc-097c4a2c2502",
   "metadata": {},
   "source": [
    "### **Data Format**"
   ]
  },
  {
   "cell_type": "markdown",
   "id": "1b1f6bb4-1a6a-44b4-a0b2-f3343448a6a5",
   "metadata": {},
   "source": [
    " The data consists of a number of names and comment counts in JSON as follows: \n",
    "\n",
    " ```\n",
    "{\n",
    "  comments: [\n",
    "    {\n",
    "      name: \"Matthias\"\n",
    "      count: 97\n",
    "    },\n",
    "    {\n",
    "      name: \"Geomer\"\n",
    "      count: 97\n",
    "    }\n",
    "    ...\n",
    "  ]\n",
    "}\n",
    "```\n",
    "\n",
    "The closest sample code that shows how to parse JSON and extract a list is json2.py. You might also want to look at geoxml.py to see how to prompt for a URL and retrieve data from a URL."
   ]
  },
  {
   "cell_type": "markdown",
   "id": "e1665494-4369-4c11-829a-4f730df20a4d",
   "metadata": {},
   "source": [
    "### **Sample Execution**"
   ]
  },
  {
   "cell_type": "markdown",
   "id": "677535d7-6ab2-4dfd-b7a3-3c7fde0bb319",
   "metadata": {},
   "source": [
    "```\n",
    "$ python3 solution.py\n",
    "Enter location: http://py4e-data.dr-chuck.net/comments_42.json\n",
    "Retrieving http://py4e-data.dr-chuck.net/comments_42.json\n",
    "Retrieved 2733 characters\n",
    "Count: 50\n",
    "Sum: 2...\n",
    "```"
   ]
  },
  {
   "cell_type": "code",
   "execution_count": 1,
   "id": "40565d04-dd8a-4eda-950c-8def131f6114",
   "metadata": {},
   "outputs": [],
   "source": [
    "import urllib.request, urllib.parse, urllib.error\n",
    "import json\n",
    "import ssl"
   ]
  },
  {
   "cell_type": "code",
   "execution_count": 2,
   "id": "a8bf657c-bcb1-4a20-ab14-8685f94d3fad",
   "metadata": {},
   "outputs": [],
   "source": [
    "# Ignore SSL certificate errors\n",
    "ctx = ssl.create_default_context()\n",
    "ctx.check_hostname = False\n",
    "ctx.verify_mode = ssl.CERT_NONE"
   ]
  },
  {
   "cell_type": "code",
   "execution_count": 6,
   "id": "827e4916-a35d-4ecf-8c55-af535f520687",
   "metadata": {},
   "outputs": [
    {
     "name": "stdout",
     "output_type": "stream",
     "text": [
      "Retrieving http://py4e-data.dr-chuck.net/comments_42.json\n"
     ]
    }
   ],
   "source": [
    "# Asking location\n",
    "url = input('Enter location: ')\n",
    "print('Retrieving', url)"
   ]
  },
  {
   "cell_type": "code",
   "execution_count": 7,
   "id": "61a30399-4419-406f-815b-38ec751a1b12",
   "metadata": {},
   "outputs": [
    {
     "name": "stdout",
     "output_type": "stream",
     "text": [
      "Retrieved 2711 characters\n"
     ]
    }
   ],
   "source": [
    "# Getting JSON\n",
    "data = urllib.request.urlopen(url, context=ctx).read()\n",
    "print('Retrieved', len(data), 'characters')"
   ]
  },
  {
   "cell_type": "code",
   "execution_count": 8,
   "id": "8998ac64-7e73-43d4-89af-efadd29d0f7d",
   "metadata": {},
   "outputs": [],
   "source": [
    "# Parse data with JSON\n",
    "info = json.loads(data)"
   ]
  },
  {
   "cell_type": "code",
   "execution_count": 17,
   "id": "bb8dafae-e3c8-475f-917c-4f794ade4e6f",
   "metadata": {},
   "outputs": [],
   "source": [
    "# Getting sum\n",
    "count = 0\n",
    "summ = 0\n",
    "\n",
    "for uu in info['comments']:\n",
    "    summ += uu['count']\n",
    "    count += 1"
   ]
  },
  {
   "cell_type": "code",
   "execution_count": 21,
   "id": "025b5f96-8ec2-4c5c-abc3-2398ca98dd7e",
   "metadata": {},
   "outputs": [
    {
     "name": "stdout",
     "output_type": "stream",
     "text": [
      "Count: 50\n"
     ]
    }
   ],
   "source": [
    "print('Count:', count)"
   ]
  },
  {
   "cell_type": "code",
   "execution_count": 22,
   "id": "b1dfa314-bfdc-42aa-9f7c-8d14b35416a5",
   "metadata": {},
   "outputs": [
    {
     "name": "stdout",
     "output_type": "stream",
     "text": [
      "Sum: 2553\n"
     ]
    }
   ],
   "source": [
    "print('Sum:', summ)"
   ]
  },
  {
   "cell_type": "code",
   "execution_count": null,
   "id": "a96714ea-1485-4c14-b896-5acf0bd2c1d0",
   "metadata": {},
   "outputs": [],
   "source": []
  }
 ],
 "metadata": {
  "kernelspec": {
   "display_name": "Python 3 (ipykernel)",
   "language": "python",
   "name": "python3"
  },
  "language_info": {
   "codemirror_mode": {
    "name": "ipython",
    "version": 3
   },
   "file_extension": ".py",
   "mimetype": "text/x-python",
   "name": "python",
   "nbconvert_exporter": "python",
   "pygments_lexer": "ipython3",
   "version": "3.11.6"
  }
 },
 "nbformat": 4,
 "nbformat_minor": 5
}
