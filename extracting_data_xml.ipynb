{
 "cells": [
  {
   "cell_type": "markdown",
   "id": "da76a80e-0e22-4468-984d-04c88ab7b7df",
   "metadata": {},
   "source": [
    "# Assignment: Extracting Data from XML"
   ]
  },
  {
   "cell_type": "markdown",
   "id": "830ede40-707a-4a73-807e-3bce5853662c",
   "metadata": {},
   "source": [
    "### **Extracting Data from XML**"
   ]
  },
  {
   "cell_type": "markdown",
   "id": "0f0cbef3-583e-4843-b715-9a0e2bd63fd5",
   "metadata": {},
   "source": [
    "In this assignment you will write a Python program somewhat similar to http://www.py4e.com/code3/geoxml.py. The program will prompt for a URL, read the XML data from that URL using **urllib** and then parse and extract the comment counts from the XML data, compute the sum of the numbers in the file. "
   ]
  },
  {
   "cell_type": "markdown",
   "id": "e035bd88-9a8b-4c38-b32d-75005fbcc928",
   "metadata": {},
   "source": [
    " We provide two files for this assignment. One is a sample file where we give you the sum for your testing and the other is the actual data you need to process for the assignment.\n",
    "\n",
    "- Sample data: http://py4e-data.dr-chuck.net/comments_42.xml (Sum=2553)\n",
    "- Actual data: http://py4e-data.dr-chuck.net/comments_1988960.xml (Sum ends with 82)\n",
    "\n",
    "You do not need to save these files to your folder since your program will read the data directly from the URL. **Note:** Each student will have a distinct data url for the assignment - so only use your own data url for analysis. "
   ]
  },
  {
   "cell_type": "markdown",
   "id": "cf339c4c-029d-4a36-9752-ffa67a80ecbd",
   "metadata": {},
   "source": [
    "### **Data Format and Approach**"
   ]
  },
  {
   "cell_type": "markdown",
   "id": "c5a6fba2-ce7a-4278-9097-4d063e46d442",
   "metadata": {},
   "source": [
    " The data consists of a number of names and comment counts in XML as follows: \n",
    "\n",
    " ```\n",
    " <comment>\n",
    "  <name>Matthias</name>\n",
    "  <count>97</count>\n",
    "</comment>\n",
    "```\n",
    "\n",
    "You are to look through all the <comment> tags and find the <count> values sum the numbers. The closest sample code that shows how to parse XML is geoxml.py. But since the nesting of the elements in our data is different than the data we are parsing in that sample code you will have to make real changes to the code.\n",
    "\n",
    "To make the code a little simpler, you can use an XPath selector string to look through the entire tree of XML for any tag named 'count' with the following line of code:\n",
    "\n",
    "```\n",
    "counts = tree.findall('.//count')\n",
    "```\n",
    "\n",
    "Take a look at the Python ElementTree documentation and look for the supported XPath syntax for details. You could also work from the top of the XML down to the comments node and then loop through the child nodes of the comments node. "
   ]
  },
  {
   "cell_type": "markdown",
   "id": "d3a84504-5468-4cf6-a391-272118d73285",
   "metadata": {},
   "source": [
    "### **Sample Execution**"
   ]
  },
  {
   "cell_type": "markdown",
   "id": "0ce1b1d4-f6d2-4043-9ca6-e9d36abfe95e",
   "metadata": {},
   "source": [
    "```\n",
    "$ python3 solution.py\n",
    "Enter location: http://py4e-data.dr-chuck.net/comments_42.xml\n",
    "Retrieving http://py4e-data.dr-chuck.net/comments_42.xml\n",
    "Retrieved 4189 characters\n",
    "Count: 50\n",
    "Sum: 2...\n",
    "```"
   ]
  },
  {
   "cell_type": "code",
   "execution_count": 1,
   "id": "40729fcd-25d4-4232-ad27-73cde37e6f2f",
   "metadata": {},
   "outputs": [],
   "source": [
    "# Import Libraries\n",
    "import urllib.request, urllib.parse, urllib.error\n",
    "import xml.etree.ElementTree as ET\n",
    "import ssl"
   ]
  },
  {
   "cell_type": "code",
   "execution_count": 2,
   "id": "ea9ffd5f-494d-4919-b45d-84068a5be2ea",
   "metadata": {},
   "outputs": [],
   "source": [
    "# Ignore SSL certificate errors\n",
    "ctx = ssl.create_default_context()\n",
    "ctx.check_hostname = False\n",
    "ctx.verify_mode = ssl.CERT_NONE"
   ]
  },
  {
   "cell_type": "code",
   "execution_count": 3,
   "id": "ef754e49-b37a-497f-b04f-a3e62f685742",
   "metadata": {},
   "outputs": [
    {
     "name": "stdin",
     "output_type": "stream",
     "text": [
      "Enter location:  http://py4e-data.dr-chuck.net/comments_42.xml\n"
     ]
    },
    {
     "name": "stdout",
     "output_type": "stream",
     "text": [
      "Retrieving http://py4e-data.dr-chuck.net/comments_42.xml\n"
     ]
    }
   ],
   "source": [
    "# Asking location\n",
    "url = input('Enter location: ')\n",
    "print('Retrieving', url)"
   ]
  },
  {
   "cell_type": "code",
   "execution_count": 4,
   "id": "08342fe0-cb98-4874-87d6-536ef9172ffe",
   "metadata": {},
   "outputs": [
    {
     "name": "stdout",
     "output_type": "stream",
     "text": [
      "Retrieved 4189 characters\n"
     ]
    }
   ],
   "source": [
    "# Getting XML\n",
    "data = urllib.request.urlopen(url, context=ctx).read()\n",
    "print('Retrieved', len(data), 'characters')"
   ]
  },
  {
   "cell_type": "code",
   "execution_count": 5,
   "id": "cca827fe-371b-45cb-9a88-9a04279021ca",
   "metadata": {},
   "outputs": [],
   "source": [
    "# Parsing data with ET\n",
    "tree = ET.fromstring(data)"
   ]
  },
  {
   "cell_type": "code",
   "execution_count": 6,
   "id": "1ffe5b98-797e-4e39-936b-6a18029b87bd",
   "metadata": {},
   "outputs": [
    {
     "name": "stdout",
     "output_type": "stream",
     "text": [
      "Count: 50\n"
     ]
    }
   ],
   "source": [
    "# Using XPath selector string to look for 'count' tag\n",
    "counts = tree.findall('.//count')\n",
    "print('Count:', len(counts))"
   ]
  },
  {
   "cell_type": "code",
   "execution_count": 7,
   "id": "a7d25435-f1cc-4b42-85df-bf01c0b65be2",
   "metadata": {},
   "outputs": [
    {
     "name": "stdout",
     "output_type": "stream",
     "text": [
      "Sum: 2553\n"
     ]
    }
   ],
   "source": [
    "# Getting sum \n",
    "summ = 0\n",
    "\n",
    "for count in counts:\n",
    "    summ += int(count.text)\n",
    "\n",
    "print('Sum:', summ)"
   ]
  },
  {
   "cell_type": "code",
   "execution_count": null,
   "id": "a6fd3e1a-9d00-4a4f-84e4-edd4909af4bf",
   "metadata": {},
   "outputs": [],
   "source": []
  }
 ],
 "metadata": {
  "kernelspec": {
   "display_name": "Python 3 (ipykernel)",
   "language": "python",
   "name": "python3"
  },
  "language_info": {
   "codemirror_mode": {
    "name": "ipython",
    "version": 3
   },
   "file_extension": ".py",
   "mimetype": "text/x-python",
   "name": "python",
   "nbconvert_exporter": "python",
   "pygments_lexer": "ipython3",
   "version": "3.11.6"
  }
 },
 "nbformat": 4,
 "nbformat_minor": 5
}
