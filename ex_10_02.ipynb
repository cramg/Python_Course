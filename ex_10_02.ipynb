{
 "cells": [
  {
   "cell_type": "markdown",
   "id": "eb48e52d-ebf2-4699-9805-c94c0585b8bd",
   "metadata": {},
   "source": [
    "# Exercise 10.2"
   ]
  },
  {
   "cell_type": "markdown",
   "id": "b067deed-e87f-4643-8082-34b8607f6b8b",
   "metadata": {},
   "source": [
    "Write a program to read through the **mbox-short.txt** and figure out the distribution by hour of the day for each of the messages. You can pull the hour out from the 'From ' line by finding the time and then splitting the string a second time using a colon.\n",
    "\n",
    "`From stephen.marquard@uct.ac.za Sat Jan  5 09:14:16 2008`\n",
    "\n",
    "Once you have accumulated the counts for each hour, print out the counts, sorted by hour as shown below."
   ]
  },
  {
   "cell_type": "code",
   "execution_count": 57,
   "id": "57230f67-19d2-4d4f-a5cd-b224bb902229",
   "metadata": {},
   "outputs": [],
   "source": [
    "handle = open('mbox-short.txt')"
   ]
  },
  {
   "cell_type": "code",
   "execution_count": 58,
   "id": "69de694d-0a21-4d1e-919a-2692b643f772",
   "metadata": {},
   "outputs": [],
   "source": [
    "counts = dict()"
   ]
  },
  {
   "cell_type": "code",
   "execution_count": 59,
   "id": "4b83ac80-a195-43ff-904b-a55f5ead58bd",
   "metadata": {},
   "outputs": [],
   "source": [
    "for line in handle:\n",
    "    if not line.startswith('From '):\n",
    "        continue\n",
    "    words = line.split()\n",
    "    time = words[5].split(':')\n",
    "    hour = time[0]\n",
    "    counts[hour] = counts.get(hour, 0) + 1"
   ]
  },
  {
   "cell_type": "code",
   "execution_count": 65,
   "id": "d6a3fda5-18dc-4f09-b9ee-c5a129fc5915",
   "metadata": {},
   "outputs": [],
   "source": [
    "lst = sorted((key, val) for key, val in counts.items())"
   ]
  },
  {
   "cell_type": "code",
   "execution_count": 67,
   "id": "cef981d6-3055-40a8-9e83-43ed92b7b719",
   "metadata": {},
   "outputs": [
    {
     "name": "stdout",
     "output_type": "stream",
     "text": [
      "04 3\n",
      "06 1\n",
      "07 1\n",
      "09 2\n",
      "10 3\n",
      "11 6\n",
      "14 1\n",
      "15 2\n",
      "16 4\n",
      "17 2\n",
      "18 1\n",
      "19 1\n"
     ]
    }
   ],
   "source": [
    "for ii,jj in lst:\n",
    "    print(ii,jj)"
   ]
  },
  {
   "cell_type": "code",
   "execution_count": null,
   "id": "f684788d-4d01-4ca0-aac2-e002f9e3bd23",
   "metadata": {},
   "outputs": [],
   "source": []
  }
 ],
 "metadata": {
  "kernelspec": {
   "display_name": "Python 3 (ipykernel)",
   "language": "python",
   "name": "python3"
  },
  "language_info": {
   "codemirror_mode": {
    "name": "ipython",
    "version": 3
   },
   "file_extension": ".py",
   "mimetype": "text/x-python",
   "name": "python",
   "nbconvert_exporter": "python",
   "pygments_lexer": "ipython3",
   "version": "3.11.8"
  }
 },
 "nbformat": 4,
 "nbformat_minor": 5
}
