{
 "cells": [
  {
   "cell_type": "markdown",
   "id": "0074947b-642b-47dd-a499-7a899d601f26",
   "metadata": {},
   "source": [
    "Open the file `mbox-short.txt` and read it line by line. When you find a line that starts with `'From '` like the following line: "
   ]
  },
  {
   "cell_type": "markdown",
   "id": "2f7c284b-bf78-4c88-8a3a-94dd5a281b7e",
   "metadata": {},
   "source": [
    "`From stephen.marquard@uct.ac.za Sat Jan  5 09:14:16 2008`"
   ]
  },
  {
   "cell_type": "markdown",
   "id": "412cfb42-623a-46a4-ab2b-87cdd1ef7d78",
   "metadata": {},
   "source": [
    "You will parse the From line using `split()` and print out the second word in the line (i.e. the entire address of the person who sent the message). Then print out a count at the end.\n",
    "\n",
    "**Hint:** make sure not to include the lines that start with `'From:'`. Also look at the last line of the sample output to see how to print the count."
   ]
  },
  {
   "cell_type": "code",
   "execution_count": 26,
   "id": "0130c786-b69e-4e5b-9269-072b66874922",
   "metadata": {},
   "outputs": [
    {
     "name": "stdin",
     "output_type": "stream",
     "text": [
      "Enter file name:  \n"
     ]
    },
    {
     "name": "stdout",
     "output_type": "stream",
     "text": [
      "stephen.marquard@uct.ac.za\n",
      "louis@media.berkeley.edu\n",
      "zqian@umich.edu\n",
      "rjlowe@iupui.edu\n",
      "zqian@umich.edu\n",
      "rjlowe@iupui.edu\n",
      "cwen@iupui.edu\n",
      "cwen@iupui.edu\n",
      "gsilver@umich.edu\n",
      "gsilver@umich.edu\n",
      "zqian@umich.edu\n",
      "gsilver@umich.edu\n",
      "wagnermr@iupui.edu\n",
      "zqian@umich.edu\n",
      "antranig@caret.cam.ac.uk\n",
      "gopal.ramasammycook@gmail.com\n",
      "david.horwitz@uct.ac.za\n",
      "david.horwitz@uct.ac.za\n",
      "david.horwitz@uct.ac.za\n",
      "david.horwitz@uct.ac.za\n",
      "stephen.marquard@uct.ac.za\n",
      "louis@media.berkeley.edu\n",
      "louis@media.berkeley.edu\n",
      "ray@media.berkeley.edu\n",
      "cwen@iupui.edu\n",
      "cwen@iupui.edu\n",
      "cwen@iupui.edu\n"
     ]
    }
   ],
   "source": [
    "fname = input(\"Enter file name: \")\n",
    "if len(fname) < 1:\n",
    "    fname = \"mbox-short.txt\"\n",
    "\n",
    "fh = open(fname)\n",
    "count = 0\n",
    "\n",
    "for line in fh:\n",
    "    if not line.startswith(\"From\"):\n",
    "        continue\n",
    "    address = line.split()\n",
    "    if address[0] == 'From:':\n",
    "        continue\n",
    "    print(address[1])\n",
    "    count += 1"
   ]
  },
  {
   "cell_type": "code",
   "execution_count": 27,
   "id": "8171f513-b72f-4c2c-90b5-1178fb531d70",
   "metadata": {},
   "outputs": [
    {
     "name": "stdout",
     "output_type": "stream",
     "text": [
      "There were 27 lines in the file with From as the first word\n"
     ]
    }
   ],
   "source": [
    "print(\"There were\", count, \"lines in the file with From as the first word\")"
   ]
  }
 ],
 "metadata": {
  "kernelspec": {
   "display_name": "Python 3 (ipykernel)",
   "language": "python",
   "name": "python3"
  },
  "language_info": {
   "codemirror_mode": {
    "name": "ipython",
    "version": 3
   },
   "file_extension": ".py",
   "mimetype": "text/x-python",
   "name": "python",
   "nbconvert_exporter": "python",
   "pygments_lexer": "ipython3",
   "version": "3.11.8"
  }
 },
 "nbformat": 4,
 "nbformat_minor": 5
}
